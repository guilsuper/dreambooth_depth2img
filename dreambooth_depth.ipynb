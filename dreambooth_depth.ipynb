{
 "cells": [
  {
   "cell_type": "code",
   "execution_count": 3,
   "metadata": {},
   "outputs": [
    {
     "name": "stdout",
     "output_type": "stream",
     "text": [
      "NVIDIA GeForce RTX 3090, 24576 MiB, 18394 MiB\n"
     ]
    }
   ],
   "source": [
    "!nvidia-smi --query-gpu=name,memory.total,memory.free --format=csv,noheader"
   ]
  },
  {
   "cell_type": "code",
   "execution_count": null,
   "metadata": {},
   "outputs": [],
   "source": [
    "%pip install jupyter_compare_view"
   ]
  },
  {
   "cell_type": "code",
   "execution_count": 9,
   "metadata": {},
   "outputs": [],
   "source": [
    "# Fill in these environment variables\n",
    "%env MODEL_NAME=stabilityai/stable-diffusion-2-depth\n",
    "%env INSTANCE_DIR=/workspace/content/data/<your instance>\n",
    "%env CLASS_DIR=/workspace/content/data/person\n",
    "%env OUTPUT_DIR=/workspace/content/data/output-2\n",
    "%load_ext autoreload"
   ]
  },
  {
   "cell_type": "code",
   "execution_count": 10,
   "metadata": {},
   "outputs": [],
   "source": [
    "%autoreload 2\n",
    "\n",
    "# !python -m debugpy --listen 0.0.0.0:5678 --wait-for-client \\\n",
    "!accelerate launch \\\n",
    "  train_dreambooth.py \\\n",
    "  --mixed_precision=\"fp16\" \\\n",
    "  --pretrained_model_name_or_path=$MODEL_NAME  \\\n",
    "  --train_text_encoder \\\n",
    "  --instance_data_dir=$INSTANCE_DIR \\\n",
    "  --class_data_dir=$CLASS_DIR \\\n",
    "  --output_dir=$OUTPUT_DIR \\\n",
    "  --with_prior_preservation --prior_loss_weight=1.0 \\\n",
    "  --instance_prompt=\"a photo of <your instance> person\" \\\n",
    "  --class_prompt=\"a photo of person\" \\\n",
    "  --resolution=512 \\\n",
    "  --train_batch_size=1 \\\n",
    "  --gradient_accumulation_steps=1 \\\n",
    "  --learning_rate=1e-6 \\\n",
    "  --lr_scheduler=\"constant\" \\\n",
    "  --lr_warmup_steps=0 \\\n",
    "  --num_class_images=200 \\\n",
    "  --max_train_steps=300 \\\n",
    "  --use_8bit_adam"
   ]
  },
  {
   "attachments": {},
   "cell_type": "markdown",
   "metadata": {},
   "source": [
    "# Test the model you just made"
   ]
  },
  {
   "cell_type": "code",
   "execution_count": 8,
   "metadata": {},
   "outputs": [],
   "source": [
    "import PIL\n",
    "import torch\n",
    "from torchvision import transforms\n",
    "import diffusers\n",
    "import transformers\n",
    "from diffusers import StableDiffusionDepth2ImgPipeline\n",
    "import os\n",
    "from jupyter_compare_view import compare"
   ]
  },
  {
   "cell_type": "code",
   "execution_count": null,
   "metadata": {},
   "outputs": [],
   "source": [
    "print(f'Getting model from {os.environ.get(\"OUTPUT_DIR\")}')\n",
    "pipeline = StableDiffusionDepth2ImgPipeline.from_pretrained(os.environ.get('OUTPUT_DIR'))\n",
    "pipeline = pipeline.to(\"cuda\")"
   ]
  },
  {
   "cell_type": "code",
   "execution_count": null,
   "metadata": {},
   "outputs": [],
   "source": [
    "# Use an image as an input depth map\n",
    "image_path = \"/workspace/content/data/samples/village.jpg\" # replace with whatever you want\n",
    "image = PIL.Image.open(image_path)\n",
    "\n",
    "image_transform = transforms.Compose(\n",
    "    [\n",
    "        transforms.Resize((384, 384)),\n",
    "        transforms.ToTensor()\n",
    "    ]\n",
    ")\n",
    "image = image_transform(image)\n",
    "image = image[None,:,:,:]\n",
    "image = image.to(\"cuda\")\n",
    "depth_map = pipeline.depth_estimator(image).predicted_depth\n",
    "image = transforms.ToPILImage()(image[0])\n",
    "depth_min = torch.amin(depth_map, dim=[0, 1, 2], keepdim=True)\n",
    "depth_max = torch.amax(depth_map, dim=[0, 1, 2], keepdim=True)\n",
    "depth_map = 2.0 * (depth_map - depth_min) / (depth_max - depth_min) - 1.0\n",
    "depth_map = depth_map[0,:,:]\n",
    "depth_map = transforms.ToPILImage()(depth_map)\n",
    "compare(depth_map, image, cmap=\"gray\", start_mode=\"horizontal\", start_slider_pos=0.73)"
   ]
  },
  {
   "cell_type": "code",
   "execution_count": null,
   "metadata": {},
   "outputs": [],
   "source": [
    "result = pipeline(\"a photo of <your-instance>, standing, Kodachrome, Canon 5D, f2 aperture, extremely detailed, sharp focus\", image)\n",
    "compare(result[0][0], image, cmap=\"gray\", start_mode=\"horizontal\", start_slider_pos=0.73)"
   ]
  }
 ],
 "metadata": {
  "kernelspec": {
   "display_name": "ldm",
   "language": "python",
   "name": "python3"
  },
  "language_info": {
   "codemirror_mode": {
    "name": "ipython",
    "version": 3
   },
   "file_extension": ".py",
   "mimetype": "text/x-python",
   "name": "python",
   "nbconvert_exporter": "python",
   "pygments_lexer": "ipython3",
   "version": "3.8.15"
  },
  "orig_nbformat": 4,
  "vscode": {
   "interpreter": {
    "hash": "819cb4a3c362ba74ab36110a3c649a29c95096d034ca532b6baac1c46e03a72e"
   }
  }
 },
 "nbformat": 4,
 "nbformat_minor": 2
}
